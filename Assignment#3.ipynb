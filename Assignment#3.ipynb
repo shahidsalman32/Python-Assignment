{
 "cells": [
  {
   "cell_type": "code",
   "execution_count": 3,
   "metadata": {},
   "outputs": [
    {
     "name": "stdout",
     "output_type": "stream",
     "text": [
      "enter first number 2\n",
      "enter second number 4\n",
      "operation you want to perform ^\n",
      "your answer is  16\n"
     ]
    }
   ],
   "source": [
    "#Q1: Calculator\n",
    "\n",
    "q=input(\"enter first number \")\n",
    "w=input(\"enter second number \")\n",
    "x=int(q)\n",
    "y=int(w)\n",
    "z=input(\"operation you want to perform \")\n",
    "if z=='+':\n",
    " print(\"your answer is \", x+y)\n",
    "elif z=='-': \n",
    " print(\"your answer is \", x-y)\n",
    "elif z=='*':\n",
    " print(\"your answer is \", x*y)\n",
    "elif z=='/':\n",
    " print(\"your answer is \", x/y)\n",
    "elif z=='^':\n",
    " print(\"your answer is \", x**y)\n",
    "else:\n",
    " print(\"give right input\")\n"
   ]
  },
  {
   "cell_type": "code",
   "execution_count": 4,
   "metadata": {},
   "outputs": [
    {
     "name": "stdout",
     "output_type": "stream",
     "text": [
      "this is numeric value  1\n",
      "this is numeric value  2\n",
      "this is numeric value  3\n",
      "this is numeric value  4\n",
      "this is numeric value  5\n"
     ]
    },
    {
     "ename": "TypeError",
     "evalue": "not all arguments converted during string formatting",
     "output_type": "error",
     "traceback": [
      "\u001b[1;31m---------------------------------------------------------------------------\u001b[0m",
      "\u001b[1;31mTypeError\u001b[0m                                 Traceback (most recent call last)",
      "\u001b[1;32m<ipython-input-4-04cb6ad0caf0>\u001b[0m in \u001b[0;36m<module>\u001b[1;34m\u001b[0m\n\u001b[0;32m      3\u001b[0m \u001b[0mx\u001b[0m\u001b[1;33m=\u001b[0m\u001b[1;33m[\u001b[0m\u001b[1;33m]\u001b[0m\u001b[1;33m\u001b[0m\u001b[1;33m\u001b[0m\u001b[0m\n\u001b[0;32m      4\u001b[0m \u001b[1;32mfor\u001b[0m \u001b[0mx\u001b[0m \u001b[1;32min\u001b[0m \u001b[0ma\u001b[0m\u001b[1;33m:\u001b[0m\u001b[1;33m\u001b[0m\u001b[1;33m\u001b[0m\u001b[0m\n\u001b[1;32m----> 5\u001b[1;33m   \u001b[1;32mif\u001b[0m \u001b[0mx\u001b[0m\u001b[1;33m%\u001b[0m\u001b[1;36m2\u001b[0m \u001b[1;32mis\u001b[0m \u001b[1;36m0\u001b[0m \u001b[1;32mor\u001b[0m \u001b[1;36m1\u001b[0m\u001b[1;33m:\u001b[0m\u001b[1;33m\u001b[0m\u001b[1;33m\u001b[0m\u001b[0m\n\u001b[0m\u001b[0;32m      6\u001b[0m     \u001b[0mprint\u001b[0m\u001b[1;33m(\u001b[0m\u001b[1;34m\"this is numeric value \"\u001b[0m\u001b[1;33m,\u001b[0m \u001b[0mx\u001b[0m\u001b[1;33m)\u001b[0m\u001b[1;33m\u001b[0m\u001b[1;33m\u001b[0m\u001b[0m\n\u001b[0;32m      7\u001b[0m   \u001b[1;32melse\u001b[0m\u001b[1;33m:\u001b[0m\u001b[1;33m\u001b[0m\u001b[1;33m\u001b[0m\u001b[0m\n",
      "\u001b[1;31mTypeError\u001b[0m: not all arguments converted during string formatting"
     ]
    }
   ],
   "source": [
    "#Q2\n",
    "a=[1,2,3,4,5,'q','r','w']\n",
    "x=[]\n",
    "for x in a:\n",
    "  if x%2 is 0 or 1:\n",
    "    print(\"this is numeric value \", x)\n",
    "  else:\n",
    "    continue\n",
    "else:\n",
    " print(x)   "
   ]
  },
  {
   "cell_type": "code",
   "execution_count": 5,
   "metadata": {},
   "outputs": [
    {
     "name": "stdout",
     "output_type": "stream",
     "text": [
      "{'name': 'salman', 'roll number': '02', 'city': 'karachi', 'country': 'Pakistan'}\n"
     ]
    }
   ],
   "source": [
    "#Q3\n",
    "student={\"name\":\"salman\",\"roll number\":\"02\",\"city\":\"karachi\"}\n",
    "student[\"country\"]=\"Pakistan\"\n",
    "print(student)"
   ]
  },
  {
   "cell_type": "code",
   "execution_count": null,
   "metadata": {},
   "outputs": [],
   "source": [
    "#Q6\n",
    "student={\"name\":\"salman\",\"roll number\":\"02\",\"city\":\"karachi\"}\n",
    "student[\"country\"]=\"Pakistan\"\n",
    "a=input(\"give key \")\n",
    "b=input(\"give value \")\n",
    "for values in student.values() or keys in student.keys(): \n",
    "    if values==b or keys==a:\n",
    "        print(\"given data already exist\")\n",
    "    else:\n",
    "        student[a]=b\n",
    "        break\n",
    "print(student)"
   ]
  },
  {
   "cell_type": "code",
   "execution_count": null,
   "metadata": {},
   "outputs": [],
   "source": [
    "#Q4\n",
    "Dict = {'x': 250, 'y':500, 'z':410}\n",
    "print(\"Dictionary: \", Dict)\n",
    "print(\"Sum of Values: \", sum(Dict.values()))"
   ]
  }
 ],
 "metadata": {
  "kernelspec": {
   "display_name": "Python 3",
   "language": "python",
   "name": "python3"
  },
  "language_info": {
   "codemirror_mode": {
    "name": "ipython",
    "version": 3
   },
   "file_extension": ".py",
   "mimetype": "text/x-python",
   "name": "python",
   "nbconvert_exporter": "python",
   "pygments_lexer": "ipython3",
   "version": "3.7.4"
  }
 },
 "nbformat": 4,
 "nbformat_minor": 2
}
