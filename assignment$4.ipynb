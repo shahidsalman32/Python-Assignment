{
 "cells": [
  {
   "cell_type": "code",
   "execution_count": 2,
   "metadata": {},
   "outputs": [
    {
     "name": "stdout",
     "output_type": "stream",
     "text": [
      "{'first name': 'Asad', 'last name': 'Omer', 'city': 'Karachi'}\n",
      "{'first name': 'Asad', 'last name': 'Omer', 'city': 'Karachi', 'qualification': 'BBA'}\n",
      "{'first name': 'Asad', 'last name': 'Omer', 'city': 'Karachi', 'qualification': 'MBA'}\n",
      "{'first name': 'Asad', 'last name': 'Omer', 'city': 'Karachi'}\n"
     ]
    }
   ],
   "source": [
    "##Q#01\n",
    "\n",
    "friend={\"first name\":\"Asad\",\"last name\":\"Omer\",\"city\":\"Karachi\"}\n",
    "print(friend)\n",
    "friend[\"qualification\"]=\"BBA\"\n",
    "print(friend)\n",
    "friend[\"qualification\"]=\"MBA\"\n",
    "print(friend)\n",
    "del friend[\"qualification\"]\n",
    "print(friend)"
   ]
  },
  {
   "cell_type": "code",
   "execution_count": 3,
   "metadata": {},
   "outputs": [
    {
     "name": "stdout",
     "output_type": "stream",
     "text": [
      "{'population': '14.91million', 'country': 'Pakistan', 'fact': 'city of lights'}\n",
      "\n",
      "\n",
      "{'population': '8.69million', 'country': 'Iran', 'fact': 'the foot of the Alborz mountain range'}\n",
      "\n",
      "\n",
      "{'population': '15.07million', 'country': 'Turkey', 'fact': 'founded on Seven Hills like Rome'}\n"
     ]
    }
   ],
   "source": [
    "##Q2\n",
    "cities={ \"Karachi\":{\"population\":\"14.91million\",\"country\":\"Pakistan\",\"fact\":\"city of lights\"},\n",
    "        \"Tehran\":{\"population\":\"8.69million\",\"country\":\"Iran\",\"fact\":\"the foot of the Alborz mountain range\"},\n",
    "        \"Istanbul\":{\"population\":\"15.07million\",\"country\":\"Turkey\",\"fact\":\"founded on Seven Hills like Rome\"}\n",
    "}\n",
    "\n",
    "print(cities[\"Karachi\"])\n",
    "print(\"\\n\")\n",
    "print(cities[\"Tehran\"])\n",
    "print(\"\\n\")\n",
    "print(cities[\"Istanbul\"])\n"
   ]
  },
  {
   "cell_type": "code",
   "execution_count": 4,
   "metadata": {},
   "outputs": [
    {
     "name": "stdout",
     "output_type": "stream",
     "text": [
      "enter your age11\n",
      "pay $10 for ticket\n"
     ]
    }
   ],
   "source": [
    "##Q3\n",
    "age=int(input(\"enter your age\"))\n",
    "if age>=1 and age<=3:\n",
    " print(\"pay $3 for ticket\")\n",
    "elif age>3 and age<12:\n",
    " print(\"pay $10 for ticket\")\n",
    "elif age>=12:\n",
    " print(\"pay $15 for ticket\")  \n",
    "else:\n",
    " print(\"enter appropriate age\")     "
   ]
  },
  {
   "cell_type": "code",
   "execution_count": 7,
   "metadata": {},
   "outputs": [
    {
     "name": "stdout",
     "output_type": "stream",
     "text": [
      "one of my favourite book is Alice in the wonderland\n"
     ]
    }
   ],
   "source": [
    "##Q4\n",
    "def book(tittle):\n",
    " print(\"one of my favourite book is \" + tittle)\n",
    "    \n",
    "book(\"Alice in the wonderland\")    "
   ]
  },
  {
   "cell_type": "code",
   "execution_count": 1,
   "metadata": {},
   "outputs": [
    {
     "name": "stdout",
     "output_type": "stream",
     "text": [
      "Enter an integer from 1 to 30: 23\n",
      "guess is high\n",
      "Enter an integer from 1 to 30: 12\n",
      "guess is high\n",
      "Enter an integer from 1 to 30: 5\n",
      "guess is high\n",
      "the number is  4\n"
     ]
    }
   ],
   "source": [
    "##Q5\n",
    "import random\n",
    "n = random.randint(1, 30)\n",
    "for i in range(3):\n",
    "    guess = int(input(\"Enter an integer from 1 to 30: \"))\n",
    "    if guess < n:\n",
    "        print (\"guess is low\")\n",
    "        ##guess = int(input(\"Enter an integer from 1 to 30: \"))\n",
    "    elif guess > n:\n",
    "        print (\"guess is high\")\n",
    "        ##guess = int(input(\"Enter an integer from 1 to 30: \"))\n",
    "    else:\n",
    "        print (\"you guessed it!\")\n",
    "        break\n",
    "else:\n",
    "    print(\"the number is \", n)"
   ]
  },
  {
   "cell_type": "code",
   "execution_count": null,
   "metadata": {},
   "outputs": [],
   "source": []
  }
 ],
 "metadata": {
  "kernelspec": {
   "display_name": "Python 3",
   "language": "python",
   "name": "python3"
  },
  "language_info": {
   "codemirror_mode": {
    "name": "ipython",
    "version": 3
   },
   "file_extension": ".py",
   "mimetype": "text/x-python",
   "name": "python",
   "nbconvert_exporter": "python",
   "pygments_lexer": "ipython3",
   "version": "3.7.4"
  }
 },
 "nbformat": 4,
 "nbformat_minor": 2
}
