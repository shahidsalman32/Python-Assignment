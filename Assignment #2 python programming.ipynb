{
 "cells": [
  {
   "cell_type": "code",
   "execution_count": 6,
   "metadata": {},
   "outputs": [
    {
     "name": "stdout",
     "output_type": "stream",
     "text": [
      "enter first subject obtained marks87\n",
      "enter second subject  obtained marks67\n",
      "enter third subject obtained  marks87\n",
      "enter fourth subject obtained  marks87\n",
      "enter fifth subject obtained  marks98\n",
      "enter total marks of all subjects500\n",
      "your percentage is %f 85.2\n",
      "your grade is A+\n"
     ]
    }
   ],
   "source": [
    "##Q1:\n",
    "\n",
    "a=int(input(\"enter first subject obtained marks\"))\n",
    "b=int(input(\"enter second subject  obtained marks\"))\n",
    "c=int(input(\"enter third subject obtained  marks\"))\n",
    "d=int(input(\"enter fourth subject obtained  marks\"))\n",
    "e=int(input(\"enter fifth subject obtained  marks\"))\n",
    "f=int(input(\"enter total marks of all subjects\"))\n",
    "per=((a+b+c+d+e)/f)*100\n",
    "print(\"your percentage is %f\", per)\n",
    "if per<=100 and per>=80:\n",
    " print(\"your grade is A+\")\n",
    "elif per<80 and per>=70:\n",
    " print(\"your grade is A\")\n",
    "elif per<70 and per>=60:\n",
    " print(\"your grade is B\")\n",
    "elif per<60 and per>=50:\n",
    " print(\"your grade is C\")\n",
    "elif per<50 and per>=40:\n",
    " print(\"your grade is D\")   \n",
    "elif per<40 and per>=33:\n",
    " print(\"your grade is E\")\n",
    "elif per<33 and per>=0:\n",
    " print(\"your grade is F\")\n",
    "else:\n",
    " print(\"your have given unappropriate value\")"
   ]
  },
  {
   "cell_type": "code",
   "execution_count": 12,
   "metadata": {},
   "outputs": [
    {
     "name": "stdout",
     "output_type": "stream",
     "text": [
      "enter the desire number1\n",
      "number is odd\n"
     ]
    }
   ],
   "source": [
    "##Q2\n",
    "num=int(input(\"enter the desire number\"))\n",
    "q=num%2\n",
    "if q==0:\n",
    " print(\"number is even\")\n",
    "elif q==1:\n",
    " print(\"number is odd\")\n",
    "else:\n",
    " print(\"inappropriate input\")   "
   ]
  },
  {
   "cell_type": "code",
   "execution_count": 13,
   "metadata": {},
   "outputs": [
    {
     "name": "stdout",
     "output_type": "stream",
     "text": [
      "the lenght of the list is  8\n"
     ]
    }
   ],
   "source": [
    "##Q3\n",
    "a=['ali','akram','hassan','jawad',2,3,4,12]\n",
    "print(\"the length  the list is \", len(a))\n"
   ]
  },
  {
   "cell_type": "code",
   "execution_count": 16,
   "metadata": {},
   "outputs": [
    {
     "name": "stdout",
     "output_type": "stream",
     "text": [
      "enter desire listq,w,e,r\n",
      "the length of the list is  7\n"
     ]
    }
   ],
   "source": [
    "##Q3\n",
    "a=input(\"enter desire list\")\n",
    "print(\"the length of the list is \", len(a))"
   ]
  },
  {
   "cell_type": "code",
   "execution_count": 22,
   "metadata": {},
   "outputs": [
    {
     "name": "stdout",
     "output_type": "stream",
     "text": [
      "the largest number among the list is  78\n"
     ]
    }
   ],
   "source": [
    "##Q5\n",
    "x=[12,23,34,45,56,76,78,34,23,3,4,5,6,7,8,9]\n",
    "print(\"the largest number among the list is \", max(x))\n"
   ]
  },
  {
   "cell_type": "code",
   "execution_count": null,
   "metadata": {},
   "outputs": [],
   "source": []
  }
 ],
 "metadata": {
  "kernelspec": {
   "display_name": "Python 3",
   "language": "python",
   "name": "python3"
  },
  "language_info": {
   "codemirror_mode": {
    "name": "ipython",
    "version": 3
   },
   "file_extension": ".py",
   "mimetype": "text/x-python",
   "name": "python",
   "nbconvert_exporter": "python",
   "pygments_lexer": "ipython3",
   "version": "3.7.4"
  }
 },
 "nbformat": 4,
 "nbformat_minor": 2
}
