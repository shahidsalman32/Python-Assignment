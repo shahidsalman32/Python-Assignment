{
 "cells": [
  {
   "cell_type": "code",
   "execution_count": 2,
   "metadata": {},
   "outputs": [
    {
     "name": "stdout",
     "output_type": "stream",
     "text": [
      "Current date and time: \n",
      "2019-11-02 01:39:51.924461\n"
     ]
    }
   ],
   "source": [
    "#Q3\n",
    "import datetime\n",
    "now = datetime.datetime.now()\n",
    "print(\"Current date and time: \")\n",
    "print(str(now))"
   ]
  },
  {
   "cell_type": "code",
   "execution_count": 15,
   "metadata": {},
   "outputs": [
    {
     "name": "stdout",
     "output_type": "stream",
     "text": [
      " Enter radius  of  circle 14\n",
      " Enter  the  unit cm\n",
      "Area of the circle is 615.0 cm * cm\n"
     ]
    }
   ],
   "source": [
    "#Q4\n",
    "rad=int(input(\" Enter radius  of  circle \"))\n",
    "unit=input(\" Enter  the  unit \")\n",
    "area=3.142*(rad**2)//1 #//1 is used to concise the answer.\n",
    "print(\"Area of the circle is\",area, unit,\"*\",unit)\n"
   ]
  },
  {
   "cell_type": "code",
   "execution_count": 26,
   "metadata": {},
   "outputs": [
    {
     "name": "stdout",
     "output_type": "stream",
     "text": [
      " Enter your First name in Sentence Case Salman\n",
      " Enter your Last name in Sentence Case Shahid\n",
      "  Shahid Salman\n"
     ]
    }
   ],
   "source": [
    "#Q5\n",
    "firstname= input(\" Enter your First name in Sentence Case \")\n",
    "lastname= input(\" Enter your Last name in Sentence Case \")\n",
    "fullname=lastname +\" \"+ firstname\n",
    "print(\" \", fullname)"
   ]
  },
  {
   "cell_type": "code",
   "execution_count": 28,
   "metadata": {},
   "outputs": [
    {
     "name": "stdout",
     "output_type": "stream",
     "text": [
      "enter something01 food\n",
      "enter something02 engineering\n",
      "foodengineering\n"
     ]
    }
   ],
   "source": [
    "#Q6\n",
    "a=input(\"enter something01 \")\n",
    "b=input(\"enter something02 \")\n",
    "c= a + b\n",
    "print(c)\n"
   ]
  },
  {
   "cell_type": "code",
   "execution_count": 29,
   "metadata": {},
   "outputs": [
    {
     "name": "stdout",
     "output_type": "stream",
     "text": [
      "enter something01 1500\n",
      "enter something02 2\n",
      "15002\n"
     ]
    }
   ],
   "source": [
    "a=input(\"enter something01 \")\n",
    "b=input(\"enter something02 \")\n",
    "c= a + b\n",
    "print(c)"
   ]
  },
  {
   "cell_type": "code",
   "execution_count": 30,
   "metadata": {},
   "outputs": [
    {
     "name": "stdout",
     "output_type": "stream",
     "text": [
      "Python version\n",
      "3.7.4 (default, Aug  9 2019, 18:34:13) [MSC v.1915 64 bit (AMD64)]\n",
      "Version info.\n",
      "sys.version_info(major=3, minor=7, micro=4, releaselevel='final', serial=0)\n"
     ]
    }
   ],
   "source": [
    "#Q2\n",
    "import sys\n",
    "print(\"Python version\")\n",
    "print (sys.version)\n",
    "print(\"Version info.\")\n",
    "print (sys.version_info)"
   ]
  },
  {
   "cell_type": "code",
   "execution_count": 31,
   "metadata": {},
   "outputs": [
    {
     "name": "stdout",
     "output_type": "stream",
     "text": [
      "Twinke, Twinkle, little  star, \n",
      "     How I wonder what you are! \n",
      "           Up above the world so high, \n",
      "           Like a diamond in the sky, \n",
      "Twinke, Twinkle, little  star, \n",
      "     How I wonder what you are! \n"
     ]
    }
   ],
   "source": [
    "#Q1\n",
    "print(\"Twinke, Twinkle, little  star, \")\n",
    "print(\"     How I wonder what you are! \")\n",
    "print(\"           Up above the world so high, \")\n",
    "print(\"           Like a diamond in the sky, \")\n",
    "print(\"Twinke, Twinkle, little  star, \")\n",
    "print(\"     How I wonder what you are! \")"
   ]
  },
  {
   "cell_type": "code",
   "execution_count": null,
   "metadata": {},
   "outputs": [],
   "source": []
  }
 ],
 "metadata": {
  "kernelspec": {
   "display_name": "Python 3",
   "language": "python",
   "name": "python3"
  },
  "language_info": {
   "codemirror_mode": {
    "name": "ipython",
    "version": 3
   },
   "file_extension": ".py",
   "mimetype": "text/x-python",
   "name": "python",
   "nbconvert_exporter": "python",
   "pygments_lexer": "ipython3",
   "version": "3.7.4"
  }
 },
 "nbformat": 4,
 "nbformat_minor": 2
}
